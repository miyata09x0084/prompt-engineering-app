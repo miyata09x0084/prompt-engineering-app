{
 "cells": [
  {
   "cell_type": "markdown",
   "metadata": {},
   "source": [
    "# 関数呼び出し（Function Calling）\n",
    "\n",
    "関数呼び出しは、LLMが最終的な回答を生成する際にツールの支援が必要な場合に有用です。\n",
    "\n",
    "現在のLLMはツール呼び出し機能を備えており、LLMは最終的な回答に支援が必要な場合にツールを呼び出すことができます。"
   ]
  },
  {
   "cell_type": "code",
   "execution_count": 1,
   "metadata": {},
   "outputs": [],
   "source": [
    "# 警告のインポート\n",
    "import warnings\n",
    "warnings.filterwarnings(\"ignore\")\n",
    "\n",
    "from utils import *\n",
    "import json"
   ]
  },
  {
   "cell_type": "markdown",
   "metadata": {},
   "source": [
    "ダミー関数を定義："
   ]
  },
  {
   "cell_type": "code",
   "execution_count": 2,
   "metadata": {},
   "outputs": [],
   "source": [
    "# 現在の天気を取得するダミー関数を定義\n",
    "def get_current_weather(location, unit=\"fahrenheit\"):\n",
    "    \"\"\"指定された場所の現在の天気を取得する\"\"\"\n",
    "    weather = {\n",
    "        \"location\": location,\n",
    "        \"temperature\": \"50\",\n",
    "        \"unit\": unit,\n",
    "    }\n",
    "\n",
    "    return json.dumps(weather)"
   ]
  },
  {
   "cell_type": "markdown",
   "metadata": {},
   "source": [
    "### 関数の定義\n",
    "\n",
    "OpenAIのドキュメントで示されているように、リクエストの一部となる関数を定義する簡単な例を示します。\n",
    "\n",
    "説明は重要です。これらは`system message`の一部としてLLMに直接渡され、LLMは説明を使用して関数を使用するかどうかを判断します。"
   ]
  },
  {
   "cell_type": "code",
   "execution_count": 3,
   "metadata": {},
   "outputs": [],
   "source": [
    "# ツールとして関数を定義\n",
    "tools = [\n",
    "    {\n",
    "        \"type\": \"function\",\n",
    "        \"function\": {\n",
    "            \"name\": \"get_current_weather\",\n",
    "            \"description\": \"指定された場所の現在の天気を取得する\",\n",
    "            \"parameters\": {\n",
    "                \"type\": \"object\",\n",
    "                \"properties\": {\n",
    "                    \"location\": {\n",
    "                        \"type\": \"string\",\n",
    "                        \"description\": \"都市と州、例：San Francisco, CA\",\n",
    "                    },\n",
    "                    \"unit\": {\n",
    "                        \"type\": \"string\", \n",
    "                        \"enum\": [\"celsius\", \"fahrenheit\"]},\n",
    "                },\n",
    "                \"required\": [\"location\"],\n",
    "            },\n",
    "        },   \n",
    "    }\n",
    "]"
   ]
  },
  {
   "cell_type": "markdown",
   "metadata": {},
   "source": [
    "### 関数呼び出しのベストプラクティス\n",
    "\n",
    "- 関数名、説明、パラメータは明確に記述する\n",
    "- 関数はコンテキスト制限にカウントされるため、関数の数と説明の長さに注意する\n",
    "- 既に知っている引数をモデルに生成させない\n",
    "- 精度向上のために関数の数を少なく保つ（OpenAIは約20個を推奨）\n",
    "- 多数の関数がある場合は、精度向上とコスト削減（トークン使用量の節約）のためにファインチューニングオプションを検討する"
   ]
  },
  {
   "cell_type": "markdown",
   "metadata": {},
   "source": [
    "それではテストしてみましょう："
   ]
  },
  {
   "cell_type": "code",
   "execution_count": 4,
   "metadata": {},
   "outputs": [],
   "source": [
    "# メッセージのリストを定義\n",
    "\n",
    "messages = [\n",
    "    {\n",
    "        \"role\": \"user\",\n",
    "        \"content\": \"ロンドンの天気はどうですか？\"\n",
    "    }\n",
    "]"
   ]
  },
  {
   "cell_type": "code",
   "execution_count": 5,
   "metadata": {},
   "outputs": [
    {
     "name": "stdout",
     "output_type": "stream",
     "text": [
      "ChatCompletionMessage(content=None, refusal=None, role='assistant', audio=None, function_call=None, tool_calls=[ChatCompletionMessageToolCall(id='call_icqvcE7zqqUpt2yGLPX03X7p', function=Function(arguments='{\"location\":\"London, UK\"}', name='get_current_weather'), type='function')])\n"
     ]
    }
   ],
   "source": [
    "response = get_chat_completion(messages, tools=tools)\n",
    "print(response)"
   ]
  },
  {
   "cell_type": "markdown",
   "metadata": {},
   "source": [
    "引数を取得できます：\n",
    "\n"
   ]
  },
  {
   "cell_type": "code",
   "execution_count": 6,
   "metadata": {},
   "outputs": [
    {
     "name": "stdout",
     "output_type": "stream",
     "text": [
      "{'location': 'London, UK'}\n"
     ]
    }
   ],
   "source": [
    "args = json.loads(response.tool_calls[0].function.arguments)\n",
    "print(args)"
   ]
  },
  {
   "cell_type": "markdown",
   "metadata": {},
   "source": [
    "実際の関数/ツールに引数を渡す："
   ]
  },
  {
   "cell_type": "code",
   "execution_count": 7,
   "metadata": {},
   "outputs": [
    {
     "data": {
      "text/plain": [
       "'{\"location\": \"London, UK\", \"temperature\": \"50\", \"unit\": \"fahrenheit\"}'"
      ]
     },
     "execution_count": 7,
     "metadata": {},
     "output_type": "execute_result"
    }
   ],
   "source": [
    "get_current_weather(**args)"
   ]
  },
  {
   "cell_type": "markdown",
   "metadata": {},
   "source": [
    "### 関数呼び出しの動作制御\n",
    "\n",
    "LLM駆動の会話エージェントのコンテキストでこの`function_calling`機能を設計することに興味があるとしましょう。あなたのソリューションは、どの関数を呼び出すか、または呼び出す必要があるかどうかを知る必要があります。挨拶メッセージの簡単な例を試してみましょう："
   ]
  },
  {
   "cell_type": "code",
   "execution_count": 8,
   "metadata": {},
   "outputs": [],
   "source": [
    "messages = [\n",
    "    {\n",
    "        \"role\": \"user\",\n",
    "        \"content\": \"こんにちは！お元気ですか？\",\n",
    "    }\n",
    "]"
   ]
  },
  {
   "cell_type": "code",
   "execution_count": 9,
   "metadata": {},
   "outputs": [
    {
     "data": {
      "text/plain": [
       "ChatCompletionMessage(content=\"Hello! I'm just a virtual assistant, so I don't have feelings, but I'm here and ready to help you. How can I assist you today?\", refusal=None, role='assistant', audio=None, function_call=None, tool_calls=None)"
      ]
     },
     "execution_count": 9,
     "metadata": {},
     "output_type": "execute_result"
    }
   ],
   "source": [
    "get_chat_completion(messages, tools=tools)"
   ]
  },
  {
   "cell_type": "markdown",
   "metadata": {},
   "source": [
    "関数呼び出しから期待する動作を指定できます。これは、システムの動作を制御するために望ましいことです。デフォルトでは、モデルは独自に関数を呼び出すかどうか、どの関数を呼び出すかを決定します。これは`tool_choice: \"auto\"`を設定することで実現されます。これは`default`設定です。"
   ]
  },
  {
   "cell_type": "code",
   "execution_count": 10,
   "metadata": {},
   "outputs": [
    {
     "data": {
      "text/plain": [
       "ChatCompletionMessage(content=\"Hello! I'm just a computer program, so I don't have feelings, but I'm here and ready to help you. How can I assist you today?\", refusal=None, role='assistant', audio=None, function_call=None, tool_calls=None)"
      ]
     },
     "execution_count": 10,
     "metadata": {},
     "output_type": "execute_result"
    }
   ],
   "source": [
    "get_chat_completion(messages, tools=tools, tool_choice=\"auto\")\n"
   ]
  },
  {
   "cell_type": "markdown",
   "metadata": {},
   "source": [
    "`tool_choice: \"none\"`を設定すると、モデルは提供された関数のいずれも使用しないように強制されます。"
   ]
  },
  {
   "cell_type": "code",
   "execution_count": 11,
   "metadata": {},
   "outputs": [
    {
     "data": {
      "text/plain": [
       "ChatCompletionMessage(content=\"Hello! I'm just a computer program, so I don't have feelings, but I'm here and ready to help you. How can I assist you today?\", refusal=None, role='assistant', audio=None, function_call=None, tool_calls=None)"
      ]
     },
     "execution_count": 11,
     "metadata": {},
     "output_type": "execute_result"
    }
   ],
   "source": [
    "get_chat_completion(messages, tools=tools, tool_choice=\"none\")"
   ]
  },
  {
   "cell_type": "markdown",
   "metadata": {},
   "source": [
    "ユーザーメッセージでテスト："
   ]
  },
  {
   "cell_type": "code",
   "execution_count": 12,
   "metadata": {},
   "outputs": [
    {
     "data": {
      "text/plain": [
       "ChatCompletionMessage(content='Would you like the temperature in Celsius or Fahrenheit?', refusal=None, role='assistant', audio=None, function_call=None, tool_calls=None)"
      ]
     },
     "execution_count": 12,
     "metadata": {},
     "output_type": "execute_result"
    }
   ],
   "source": [
    "messages = [\n",
    "    {\n",
    "        \"role\": \"user\",\n",
    "        \"content\": \"ロンドンの天気はどうですか？\",\n",
    "    }\n",
    "]\n",
    "get_chat_completion(messages, tools=tools, tool_choice=\"none\")"
   ]
  },
  {
   "cell_type": "markdown",
   "metadata": {},
   "source": [
    "アプリケーションで望む動作がある場合は、モデルに関数を選択するように強制することもできます。例："
   ]
  },
  {
   "cell_type": "code",
   "execution_count": 13,
   "metadata": {},
   "outputs": [
    {
     "data": {
      "text/plain": [
       "ChatCompletionMessage(content=None, refusal=None, role='assistant', audio=None, function_call=None, tool_calls=[ChatCompletionMessageToolCall(id='call_3nx7XsVPO1OfPo2n3KuEjoZK', function=Function(arguments='{\"location\":\"London, UK\"}', name='get_current_weather'), type='function')])"
      ]
     },
     "execution_count": 13,
     "metadata": {},
     "output_type": "execute_result"
    }
   ],
   "source": [
    "messages = [\n",
    "    {\n",
    "        \"role\": \"user\",\n",
    "        \"content\": \"ロンドンの天気はどうですか？\",\n",
    "    }\n",
    "]\n",
    "get_chat_completion(messages, tools=tools, tool_choice={\"type\": \"function\", \"function\": {\"name\": \"get_current_weather\"}})"
   ]
  },
  {
   "cell_type": "markdown",
   "metadata": {},
   "source": [
    "OpenAI APIは、1回のターンで複数の関数を呼び出す並列関数呼び出しもサポートしています。効率性の向上と、抽出したい異なる引数セットがある場合に役立ちます。"
   ]
  },
  {
   "cell_type": "code",
   "execution_count": null,
   "metadata": {},
   "outputs": [],
   "source": []
  },
  {
   "cell_type": "code",
   "execution_count": 21,
   "metadata": {},
   "outputs": [
    {
     "data": {
      "text/plain": [
       "ChatCompletionMessage(content=None, refusal=None, role='assistant', audio=None, function_call=None, tool_calls=[ChatCompletionMessageToolCall(id='call_Xbvyc6IWOp7v9WPwQuy2l9fG', function=Function(arguments='{\"location\": \"London\"}', name='get_current_weather'), type='function'), ChatCompletionMessageToolCall(id='call_rGRS88ukRw8EzwTSx1X3oELR', function=Function(arguments='{\"location\": \"Belmopan\"}', name='get_current_weather'), type='function')])"
      ]
     },
     "execution_count": 21,
     "metadata": {},
     "output_type": "execute_result"
    }
   ],
   "source": [
    "messages = [\n",
    "    {\n",
    "        \"role\": \"user\",\n",
    "        \"content\": \"ロンドンとベルモパンの天気はどうですか？\",\n",
    "    }\n",
    "]\n",
    "get_chat_completion(messages, tools=tools)"
   ]
  },
  {
   "cell_type": "markdown",
   "metadata": {},
   "source": [
    "上記の応答で、照会された2つの場所の関数呼び出しからの情報が含まれていることがわかります。\n",
    "\n"
   ]
  },
  {
   "cell_type": "markdown",
   "metadata": {},
   "source": [
    "### モデルフィードバックのための関数呼び出し応答\n",
    "関数呼び出しから生成された入力でAPIを呼び出した後に得られた結果を渡すエージェントの開発にも興味があるかもしれません。次に例を見てみましょう："
   ]
  },
  {
   "cell_type": "code",
   "execution_count": 23,
   "metadata": {},
   "outputs": [],
   "source": [
    "messages = []\n",
    "messages.append({\"role\": \"user\", \"content\": \"ボストンの天気はどうですか！\"})\n",
    "assistant_message = get_chat_completion(messages, tools=tools, tool_choice=\"auto\")\n",
    "assistant_message = json.loads(assistant_message.model_dump_json())\n",
    "assistant_message[\"content\"] = str(assistant_message[\"tool_calls\"][0][\"function\"])\n",
    "\n",
    "del assistant_message[\"function_call\"]"
   ]
  },
  {
   "cell_type": "code",
   "execution_count": 24,
   "metadata": {},
   "outputs": [
    {
     "name": "stdout",
     "output_type": "stream",
     "text": [
      "{'content': '{\\'arguments\\': \\'{\"location\":\"Boston, MA\"}\\', \\'name\\': \\'get_current_weather\\'}', 'refusal': None, 'role': 'assistant', 'audio': None, 'tool_calls': [{'id': 'call_HjEsBatvMQLfyvpW3YjaRd6k', 'function': {'arguments': '{\"location\":\"Boston, MA\"}', 'name': 'get_current_weather'}, 'type': 'function'}]}\n"
     ]
    }
   ],
   "source": [
    "print(assistant_message)"
   ]
  },
  {
   "cell_type": "code",
   "execution_count": 26,
   "metadata": {},
   "outputs": [
    {
     "name": "stdout",
     "output_type": "stream",
     "text": [
      "[{'role': 'user', 'content': \"What's the weather like in Boston!\"}]\n"
     ]
    }
   ],
   "source": [
    "print(messages)"
   ]
  },
  {
   "cell_type": "code",
   "execution_count": 27,
   "metadata": {},
   "outputs": [],
   "source": [
    "messages.append(assistant_message)"
   ]
  },
  {
   "cell_type": "code",
   "execution_count": 28,
   "metadata": {},
   "outputs": [
    {
     "data": {
      "text/plain": [
       "[{'role': 'user', 'content': \"What's the weather like in Boston!\"},\n",
       " {'content': '{\\'arguments\\': \\'{\"location\":\"Boston, MA\"}\\', \\'name\\': \\'get_current_weather\\'}',\n",
       "  'refusal': None,\n",
       "  'role': 'assistant',\n",
       "  'audio': None,\n",
       "  'tool_calls': [{'id': 'call_HjEsBatvMQLfyvpW3YjaRd6k',\n",
       "    'function': {'arguments': '{\"location\":\"Boston, MA\"}',\n",
       "     'name': 'get_current_weather'},\n",
       "    'type': 'function'}]}]"
      ]
     },
     "execution_count": 28,
     "metadata": {},
     "output_type": "execute_result"
    }
   ],
   "source": [
    "messages"
   ]
  },
  {
   "cell_type": "markdown",
   "metadata": {},
   "source": [
    "次に、`get_current_weather`関数の結果を追加し、`tool`ロールを使用してモデルに戻します。\n"
   ]
  },
  {
   "cell_type": "code",
   "execution_count": 29,
   "metadata": {},
   "outputs": [],
   "source": [
    "# モデルに戻す天気情報を取得\n",
    "weather = get_current_weather(messages[1][\"tool_calls\"][0][\"function\"][\"arguments\"])\n",
    "\n",
    "messages.append({\"role\": \"tool\",\n",
    "                 \"tool_call_id\": assistant_message[\"tool_calls\"][0][\"id\"],\n",
    "                 \"name\": assistant_message[\"tool_calls\"][0][\"function\"][\"name\"],\n",
    "                 \"content\": weather})"
   ]
  },
  {
   "cell_type": "code",
   "execution_count": 30,
   "metadata": {},
   "outputs": [
    {
     "data": {
      "text/plain": [
       "[{'role': 'user', 'content': \"What's the weather like in Boston!\"},\n",
       " {'content': '{\\'arguments\\': \\'{\"location\":\"Boston, MA\"}\\', \\'name\\': \\'get_current_weather\\'}',\n",
       "  'refusal': None,\n",
       "  'role': 'assistant',\n",
       "  'audio': None,\n",
       "  'tool_calls': [{'id': 'call_HjEsBatvMQLfyvpW3YjaRd6k',\n",
       "    'function': {'arguments': '{\"location\":\"Boston, MA\"}',\n",
       "     'name': 'get_current_weather'},\n",
       "    'type': 'function'}]},\n",
       " {'role': 'tool',\n",
       "  'tool_call_id': 'call_HjEsBatvMQLfyvpW3YjaRd6k',\n",
       "  'name': 'get_current_weather',\n",
       "  'content': '{\"location\": \"{\\\\\"location\\\\\":\\\\\"Boston, MA\\\\\"}\", \"temperature\": \"50\", \"unit\": \"fahrenheit\"}'}]"
      ]
     },
     "execution_count": 30,
     "metadata": {},
     "output_type": "execute_result"
    }
   ],
   "source": [
    "messages"
   ]
  },
  {
   "cell_type": "markdown",
   "metadata": {},
   "source": [
    "基本的に、関数から取得した情報をリクエストの一部としてモデルに注入し直しました。モデルは今、そのコンテキストをすべて使用して適切な応答を生成できます。関数に戻り値がない場合（例：`send_email()`）は、成功文字列（例：`\"success\"`）を返すだけです。"
   ]
  },
  {
   "cell_type": "code",
   "execution_count": 31,
   "metadata": {},
   "outputs": [
    {
     "name": "stdout",
     "output_type": "stream",
     "text": [
      "ChatCompletionMessage(content='The current temperature in Boston, MA is 50°F.', refusal=None, role='assistant', audio=None, function_call=None, tool_calls=None)\n"
     ]
    }
   ],
   "source": [
    "final_response = get_chat_completion(messages, tools=tools)\n",
    "print(final_response)"
   ]
  }
 ],
 "metadata": {
  "kernelspec": {
   "display_name": "pe-for-devs",
   "language": "python",
   "name": "python3"
  },
  "language_info": {
   "codemirror_mode": {
    "name": "ipython",
    "version": 3
   },
   "file_extension": ".py",
   "mimetype": "text/x-python",
   "name": "python",
   "nbconvert_exporter": "python",
   "pygments_lexer": "ipython3",
   "version": "3.10.16"
  }
 },
 "nbformat": 4,
 "nbformat_minor": 2
}
