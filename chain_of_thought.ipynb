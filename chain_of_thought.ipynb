{
 "cells": [
  {
   "cell_type": "markdown",
   "metadata": {},
   "source": [
    "# Chain-of-Thought Prompting\n",
    "\n",
    "Breaking the instructions down into steps for the model so that it can better understand how to perform the instructions and overall task. "
   ]
  },
  {
   "cell_type": "code",
   "execution_count": 8,
   "metadata": {},
   "outputs": [],
   "source": [
    "# Warning control\n",
    "import warnings\n",
    "warnings.filterwarnings(\"ignore\")"
   ]
  },
  {
   "cell_type": "code",
   "execution_count": 9,
   "metadata": {},
   "outputs": [],
   "source": [
    "# Importing libraries\n",
    "import openai\n",
    "import os\n",
    "from dotenv import load_dotenv\n",
    "\n",
    "# Loading environment variables\n",
    "load_dotenv()\n",
    "\n",
    "from openai import OpenAI\n",
    "client = OpenAI()"
   ]
  },
  {
   "cell_type": "code",
   "execution_count": 10,
   "metadata": {},
   "outputs": [],
   "source": [
    "def get_chat_completion(messages, model=\"gpt-4o\", temperature=0.0):\n",
    "    response = client.chat.completions.create(\n",
    "        model=model,\n",
    "        messages=messages,\n",
    "        temperature=temperature\n",
    "    )\n",
    "    return response.choices[0].message.content"
   ]
  },
  {
   "cell_type": "markdown",
   "metadata": {},
   "source": [
    "## Chain-of-Thought Prompting\n",
    "\n",
    "**The idea of chain-of-thought (CoT) prompting** -- CoT break down the steps and analyses you want the model to perform so it aids the model in understanding how to achieve the task better. The step-by-step nature of CoT prompts help the model better follow the instructions.\n",
    "\n",
    "**Where is CoT useful?** -- It's useful in technical domains (science, maths, coding) and where extensive analysis is required to perform a task (market research, report analysis, complex customer support workflows)."
   ]
  },
  {
   "cell_type": "code",
   "execution_count": 4,
   "metadata": {},
   "outputs": [],
   "source": [
    "menu_delimiter = \"<menu_items>\"\n",
    "menu_delimiter_end = \"</menu_items>\"\n",
    "\n",
    "thinking_delimiter = \"<thinking>\"\n",
    "thinking_delimiter_end = \"</thinking>\"\n",
    "\n",
    "response_delimiter = \"<response>\"\n",
    "response_delimiter_end = \"</response>\"\n",
    "\n",
    "food_items = \"\"\"\n",
    "Menu: Kids Menu    \n",
    "Food Item: Mini Cheeseburger\n",
    "Price: $6.99\n",
    "Vegan: N\n",
    "Popularity: 4/5\n",
    "Included: Mini beef patty, cheese, lettuce, tomato, and fries.\n",
    "\n",
    "Menu: Appetizers\n",
    "Food Item: Loaded Potato Skins\n",
    "Price: $8.99\n",
    "Vegan: N\n",
    "Popularity: 3/5\n",
    "Included: Crispy potato skins filled with cheese, bacon bits, and served with sour cream.\n",
    "\n",
    "Menu: Appetizers\n",
    "Food Item: Bruschetta\n",
    "Price: $7.99\n",
    "Vegan: Y\n",
    "Popularity: 4/5\n",
    "Included: Toasted baguette slices topped with fresh tomatoes, basil, garlic, and balsamic glaze.\n",
    "\n",
    "Menu: Main Menu\n",
    "Food Item: Grilled Chicken Caesar Salad\n",
    "Price: $12.99\n",
    "Vegan: N\n",
    "Popularity: 4/5\n",
    "Included: Grilled chicken breast, romaine lettuce, Parmesan cheese, croutons, and Caesar dressing.\n",
    "\n",
    "Menu: Main Menu\n",
    "Food Item: Classic Cheese Pizza\n",
    "Price: $10.99\n",
    "Vegan: N\n",
    "Popularity: 5/5\n",
    "Included: Thin-crust pizza topped with tomato sauce, mozzarella cheese, and fresh basil.\n",
    "\n",
    "Menu: Main Menu\n",
    "Food Item: Spaghetti Bolognese\n",
    "Price: $14.99\n",
    "Vegan: N\n",
    "Popularity: 4/5\n",
    "Included: Pasta tossed in a savory meat sauce made with ground beef, tomatoes, onions, and herbs.\n",
    "\n",
    "Menu: Vegan Options\n",
    "Food Item: Veggie Wrap\n",
    "Price: $9.99\n",
    "Vegan: Y\n",
    "Popularity: 3/5\n",
    "Included: Grilled vegetables, hummus, mixed greens, and a wrap served with a side of sweet potato fries.\n",
    "\n",
    "Menu: Vegan Options\n",
    "Food Item: Vegan Beyond Burger\n",
    "Price: $11.99\n",
    "Vegan: Y\n",
    "Popularity: 4/5\n",
    "Included: Plant-based patty, vegan cheese, lettuce, tomato, onion, and a choice of regular or sweet potato fries.\n",
    "\n",
    "Menu: Desserts\n",
    "Food Item: Chocolate Lava Cake\n",
    "Price: $6.99\n",
    "Vegan: N\n",
    "Popularity: 5/5\n",
    "Included: Warm chocolate cake with a gooey molten center, served with vanilla ice cream.\n",
    "\n",
    "Menu: Desserts\n",
    "Food Item: Fresh Berry Parfait\n",
    "Price: $5.99\n",
    "Vegan: Y\n",
    "Popularity: 4/5\n",
    "\"\"\"\n",
    "\n",
    "system_message = f\"\"\"\n",
    "Your task is answer questions factually about a food menu, provided below and delimited by {menu_delimiter}{menu_delimiter_end}.\n",
    "\n",
    "Step 1: The first step is to check if the user is asking a question related to any type of food (even if that food item is not on the menu). If the question is about any type of food, we move on to Step 2 and ignore the rest of Step 1. If the question is not about food, then we send a response: \"Sorry! I cannot help with that. Please let me know if you have a question about our food menu.\"\n",
    "\n",
    "Step 2: In this step, we check that the user question is relevant to any of the items on the food menu. You should check that the food item exists in our menu first. If it doesn't exist then send a kind response to the user that the item doesn't exist in our menu and then include a list of available but similar food items without any other details (e.g., price). The food items available are provided below and delimited by {menu_delimiter}{menu_delimiter_end}:\n",
    "\n",
    "{menu_delimiter}\n",
    "{food_items}\n",
    "{menu_delimiter_end}\n",
    "\n",
    "Step 3: If the item exist in our food menu and the user is requesting for specific information, provide that relevant information to the user using the food menu. Make sure to use a friendly tone and keep the response concise.\n",
    "\n",
    "Perform the following reasoning steps to send a response to the user:\n",
    "{thinking_delimiter}\n",
    "Step 1: <Step 1 reasoning>\n",
    "Step 2: <Step 2 reasoning>\n",
    "{thinking_delimiter_end}\n",
    "{response_delimiter}\n",
    "Response to the user: <response to user>\n",
    "{response_delimiter_end}\n",
    "\"\"\""
   ]
  },
  {
   "cell_type": "code",
   "execution_count": 11,
   "metadata": {},
   "outputs": [
    {
     "name": "stdout",
     "output_type": "stream",
     "text": [
      "<thinking>\n",
      "Step 1: The user is asking a question related to a food item, specifically the Mini Cheeseburger.\n",
      "Step 2: The Mini Cheeseburger exists in our menu under the Kids Menu category.\n",
      "</thinking>\n",
      "<response>\n",
      "Response to the user: The price of the Mini Cheeseburger is $6.99. Enjoy your meal!\n",
      "</response>\n"
     ]
    }
   ],
   "source": [
    "user_message = \"What is the price of the Mini Cheeseburger?\"\n",
    "\n",
    "messages = [\n",
    "    {\"role\": \"system\", \"content\": system_message},\n",
    "    {\"role\": \"user\", \"content\": user_message}\n",
    "]\n",
    "\n",
    "response = get_chat_completion(messages)\n",
    "print(response)"
   ]
  },
  {
   "cell_type": "markdown",
   "metadata": {},
   "source": [
    "## Inner Monologue\n",
    "\n",
    "You can separate out the reasoning from the final user response."
   ]
  },
  {
   "cell_type": "code",
   "execution_count": 12,
   "metadata": {},
   "outputs": [
    {
     "name": "stdout",
     "output_type": "stream",
     "text": [
      "The price of the Mini Cheeseburger is $6.99. Enjoy your meal!\n",
      "\n"
     ]
    }
   ],
   "source": [
    "# extract the final response only\n",
    "try:\n",
    "    final_response = response.split(response_delimiter)[1].split(response_delimiter_end)[0]\n",
    "    final_response = final_response.split(\"Response to the user: \")[1]\n",
    "    print(final_response)\n",
    "except:\n",
    "    print(\"No final response found\")"
   ]
  },
  {
   "cell_type": "markdown",
   "metadata": {},
   "source": [
    "## Testing CoT\n",
    "\n",
    "Let's test a few user queries for analyzing the consistency of the CoT reasoning steps. This is important when experimenting with CoT prompts to analyze more closely where the model is doing okay and where it might need more work. "
   ]
  },
  {
   "cell_type": "code",
   "execution_count": 7,
   "metadata": {},
   "outputs": [
    {
     "name": "stdout",
     "output_type": "stream",
     "text": [
      "Question: Do you have a kids' menu?\n",
      "Response: <thinking>\n",
      "Step 1: The user is asking a question related to food, specifically about a kids' menu.\n",
      "Step 2: The question is relevant to the food menu provided. The menu includes a \"Kids Menu\" section.\n",
      "</thinking>\n",
      "<response>\n",
      "Response to the user: Yes, we do have a kids' menu! It includes a Mini Cheeseburger.\n",
      "</response>\n",
      "====================================================\n",
      "Question: Do you have any vegan options?\n",
      "Response: <thinking>\n",
      "Step 1: The user is asking a question related to food, specifically vegan options.\n",
      "Step 2: The question is relevant to the items on the food menu. We have vegan options available.\n",
      "</thinking>\n",
      "<response>\n",
      "Response to the user: Yes, we have vegan options available! You can choose from the Bruschetta, Veggie Wrap, Vegan Beyond Burger, and Fresh Berry Parfait.\n",
      "</response>\n",
      "====================================================\n",
      "Question: How much for the shoes?\n",
      "Response: <thinking>\n",
      "Step 1: The user is asking about shoes, which is not related to any type of food.\n",
      "</thinking>\n",
      "<response>\n",
      "Response to the user: Sorry! I cannot help with that. Please let me know if you have a question about our food menu.\n",
      "</response>\n",
      "====================================================\n",
      "Question: Do you have mac & cheese?\n",
      "Response: <thinking>\n",
      "Step 1: The user is asking about a food item, specifically mac & cheese.\n",
      "Step 2: Mac & cheese is not listed in our menu. I will provide a list of available but similar food items.\n",
      "</thinking>\n",
      "<response>\n",
      "Response to the user: I'm sorry, mac & cheese is not on our menu. However, we do have similar items like the Classic Cheese Pizza and the Mini Cheeseburger. Let me know if you have any other questions!\n",
      "</response>\n",
      "====================================================\n",
      "Question: How much for the BBQ?\n",
      "Response: <thinking>\n",
      "Step 1: The user is asking about a food item, specifically \"BBQ.\"\n",
      "Step 2: \"BBQ\" is not listed in the provided menu items. I will inform the user that it is not available and provide a list of similar items.\n",
      "</thinking>\n",
      "<response>\n",
      "Response to the user: BBQ is not available on our menu. However, we have the following similar items: Mini Cheeseburger, Grilled Chicken Caesar Salad, and Spaghetti Bolognese.\n",
      "</response>\n",
      "====================================================\n",
      "Question: What's the price for the mac & cheese?\n",
      "Response: <thinking>\n",
      "Step 1: The user is asking a question related to food, specifically about mac & cheese.\n",
      "Step 2: Mac & cheese is not listed in our menu. I will provide a list of available but similar food items.\n",
      "</thinking>\n",
      "<response>\n",
      "Response to the user: I'm sorry, but mac & cheese is not on our menu. However, we do have similar items like Mini Cheeseburger, Loaded Potato Skins, and Classic Cheese Pizza.\n",
      "</response>\n",
      "====================================================\n",
      "Question: What's your most popular dish?\n",
      "Response: <thinking>\n",
      "Step 1: The user is asking a question related to food.\n",
      "Step 2: The user is asking about the most popular dish on the menu. The Classic Cheese Pizza has the highest popularity rating of 5/5.\n",
      "</thinking>\n",
      "<response>\n",
      "Response to the user: Our most popular dish is the Classic Cheese Pizza, which has a popularity rating of 5/5!\n",
      "</response>\n",
      "====================================================\n"
     ]
    }
   ],
   "source": [
    "user_questions = [\"Do you have a kids' menu?\", \"Do you have any vegan options?\", \"How much for the shoes?\", \"Do you have mac & cheese?\", \"How much for the BBQ?\", \"What's the price for the mac & cheese?\", \"What's your most popular dish?\"]\n",
    "\n",
    "for question in user_questions:\n",
    "    user_message = question\n",
    "    messages = [\n",
    "        {\"role\": \"system\", \"content\": system_message},\n",
    "        {\"role\": \"user\", \"content\": user_message}\n",
    "    ]\n",
    "    response = get_chat_completion(messages)\n",
    "    print(\"Question:\", question)\n",
    "    print(\"Response:\", response)\n",
    "    print(\"====================================================\")\n",
    "    "
   ]
  },
  {
   "cell_type": "markdown",
   "metadata": {},
   "source": [
    "### A word on Native CoT?\n",
    "\n",
    "More recent models -- also referred to as large reasoning model (LRMs) -- have been trained extensively with reinforcement learning (RL) to natively support chain-of-thought step-by-step reasoning and generated as part of the model response. We are covering this in the upcoming Reasoning chapter of this course.\n",
    "\n",
    "Hand-written (manual) CoT prompting is still useful for when using non-reasoning models like GPT-4o for tasks that don't require extensive reasoning and when you need to optimize for latency and cost. We will compare and discuss in more detail -- in the upcoming Reasoning chapter -- when to use manual CoT, native CoT, and a combination of both."
   ]
  },
  {
   "cell_type": "markdown",
   "metadata": {},
   "source": [
    "### Things to try\n",
    "\n",
    "- Similar to what we did in few-shot prompting, develop a small testing set (i.e, develop a few questions with ideal chatbot answers) to assess the performance of your CoT prompt\n",
    "- Create different variants of your CoT prompt and log the results which you can then use to compare and systematically check on improvements\n",
    "- CoT improvement to try: \n",
    "    - Try to separate the thinking steps so you can chain the results instead (this will be covered in more detail in an upcoming lesson)\n",
    "    - Combine CoT with a few demonstrations on the kinds of answers or step-by-step breakdown or outputs you expect from the model."
   ]
  }
 ],
 "metadata": {
  "kernelspec": {
   "display_name": "pe-for-devs",
   "language": "python",
   "name": "python3"
  },
  "language_info": {
   "codemirror_mode": {
    "name": "ipython",
    "version": 3
   },
   "file_extension": ".py",
   "mimetype": "text/x-python",
   "name": "python",
   "nbconvert_exporter": "python",
   "pygments_lexer": "ipython3",
   "version": "3.10.16"
  }
 },
 "nbformat": 4,
 "nbformat_minor": 2
}
